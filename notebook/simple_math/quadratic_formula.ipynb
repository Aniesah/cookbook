{
 "cells": [
  {
   "cell_type": "markdown",
   "id": "a809062c",
   "metadata": {},
   "source": [
    "# Formula kuadrat"
   ]
  },
  {
   "cell_type": "markdown",
   "id": "425100fc",
   "metadata": {},
   "source": [
    "Formula kuadrat adalah rumus yang digunakan untuk mencari akar-akar dari suatu persamaan kuadrat."
   ]
  },
  {
   "cell_type": "markdown",
   "id": "69fb34e9",
   "metadata": {},
   "source": [
    "## Persamaan kuadrat\n",
    "Terdapat suatu persamaan kuadrat dalam bentuk\n",
    "\n",
    "\\begin{equation}\\label{eq1}\\tag{1}\n",
    "y = ax^2 + bx + c\n",
    "\\end{equation}\n",
    "\n",
    "yang akar-akarnya dapat dicari melalui formula kuadrat."
   ]
  },
  {
   "cell_type": "markdown",
   "id": "9496f5e1",
   "metadata": {},
   "source": [
    "## Formula kuadrat\n",
    "Suatu persamaan memiliki dua akar, di mana\n",
    "\n",
    "\\begin{equation}\\label{eq2}\\tag{2}\n",
    "x_1 = \\frac{-b - \\sqrt{b^2 - 4ac}}{2a}\n",
    "\\end{equation}\n",
    "\n",
    "akan memberikan akar pertama dan\n",
    "\n",
    "\\begin{equation}\\label{eq3}\\tag{3}\n",
    "x_2 = \\frac{-b + \\sqrt{b^2 - 4ac}}{2a}\n",
    "\\end{equation}\n",
    "\n",
    "akan memberikan akar kedua dengan $x_1 < x_2$. Penerapan Persamaan \\eqref{eq2} dan  \\eqref{eq3} akan diberikan pada bagian berikutnya."
   ]
  },
  {
   "cell_type": "markdown",
   "id": "8b298439",
   "metadata": {},
   "source": [
    "## Contoh\n",
    "Berikut ini adalah contoh sederhana penerapan dua persamaan sebelumnya."
   ]
  },
  {
   "cell_type": "code",
   "execution_count": 5,
   "id": "7038456f",
   "metadata": {},
   "outputs": [],
   "source": [
    "import math"
   ]
  },
  {
   "cell_type": "code",
   "execution_count": 1,
   "id": "666d2e28",
   "metadata": {},
   "outputs": [],
   "source": [
    "a = 1\n",
    "b = -5\n",
    "c = 6"
   ]
  },
  {
   "cell_type": "code",
   "execution_count": 2,
   "id": "93c4d3f3",
   "metadata": {},
   "outputs": [],
   "source": [
    "D = b * b - 4 * a * c"
   ]
  },
  {
   "cell_type": "code",
   "execution_count": 7,
   "id": "45368dc0",
   "metadata": {},
   "outputs": [],
   "source": [
    "x1 = (-b - math.sqrt(D)) / (2*a)"
   ]
  },
  {
   "cell_type": "code",
   "execution_count": 8,
   "id": "3c240b0d",
   "metadata": {},
   "outputs": [],
   "source": [
    "x2 = (-b + math.sqrt(D)) / (2*a)"
   ]
  },
  {
   "cell_type": "code",
   "execution_count": 9,
   "id": "fb796784",
   "metadata": {},
   "outputs": [
    {
     "name": "stdout",
     "output_type": "stream",
     "text": [
      "x1 =  2.0\n"
     ]
    }
   ],
   "source": [
    "print(\"x1 = \", x1)"
   ]
  },
  {
   "cell_type": "code",
   "execution_count": 10,
   "id": "905e35a3",
   "metadata": {},
   "outputs": [
    {
     "name": "stdout",
     "output_type": "stream",
     "text": [
      "x2 =  3.0\n"
     ]
    }
   ],
   "source": [
    "print(\"x2 = \", x2)"
   ]
  },
  {
   "cell_type": "markdown",
   "id": "01a52002",
   "metadata": {},
   "source": [
    "Dengan demikian diperoleh bahwa akar-akar dari persamaan $y = x^2 - 5x + 6$ adalah $x_1 = 2$ dan $x_2 = 3.0$"
   ]
  }
 ],
 "metadata": {
  "authors": [
   {
    "name": "Sparisoma Viridi"
   }
  ],
  "kernelspec": {
   "display_name": "Python 3 (ipykernel)",
   "language": "python",
   "name": "python3"
  },
  "language_info": {
   "codemirror_mode": {
    "name": "ipython",
    "version": 3
   },
   "file_extension": ".py",
   "mimetype": "text/x-python",
   "name": "python",
   "nbconvert_exporter": "python",
   "pygments_lexer": "ipython3",
   "version": "3.10.4"
  },
  "title": "Quadratic formula"
 },
 "nbformat": 4,
 "nbformat_minor": 5
}
