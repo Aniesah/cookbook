{
 "cells": [
  {
   "cell_type": "markdown",
   "id": "848f64d8",
   "metadata": {},
   "source": [
    "# Kerja Gaya Gesek\n",
    "\n",
    "Sparisoma Viridi \\\n",
    "Program Studi Sarjana Fisika, Institut Teknologi Bandung \\\n",
    "Jalan Gensha 10, Bandung 40132, Indonesia \\\n",
    "dudung@gmail.com, https://github.com/dudung\n",
    "\n",
    "Kerja yang dilakukan oleh gaya gesek merupakan bentuk kerja yang tidak diharapkan karena energi yang dikeluarkan, biasanya dalam bentuk panas atau bunyi yang dilepas ke lingkungan, tidak dapat dimanfaatkan lagi oleh sistem sehingga energi sistem berkurang."
   ]
  },
  {
   "cell_type": "markdown",
   "id": "e47d7bfc",
   "metadata": {},
   "source": [
    "## Gerak benda di atas lantai mendatar kasar\n",
    "Sistem yang ditinjau adalah suatu benda yang bergerak di atas lantai mendatar kasar. Benda diberi kecepatan awal tertentu dan bergerak melambat sampai berhenti karena adanya gaya gesek kinetis antara benda dan lantai kasar."
   ]
  },
  {
   "cell_type": "markdown",
   "id": "3501b283",
   "metadata": {},
   "source": [
    "## Parameter\n",
    "Beberapa parameter yang digunakan adalah seperti pada tabel berikut ini.\n",
    "\n",
    "Tabel <a name='tab1'>1</a>. Simbol beserta satuan dan artinya.\n",
    "\n",
    "Simbol | Satuan | Arti\n",
    ":- | :- | :-\n",
    "$t$ | s | waktu\n",
    "$v_0$ | m/s | kecepatan awal\n",
    "$x_0$ | m | posisi awal\n",
    "$v$ | m/s | kecepatan saat $t$\n",
    "$x$ | m | waktu saat $t$\n",
    "$a$ | m/s<sup>2</sup> | percepatan\n",
    "$\\mu_k$ | - | koefisien gesek kinetis\n",
    "$f_k$ | N | gaya gesek kinetis\n",
    "$m$ | kg | massa benda\n",
    "$F$ | N | total gaya yang bekerja\n",
    "$N$ | N | gaya normal\n",
    "$w$ | N | gaya gravitasi\n",
    "\n",
    "Simbol-simbol pada Tabel [1](#tab1) akan diberi nilai kemudian saat diimplementasikan dalam program."
   ]
  },
  {
   "cell_type": "markdown",
   "id": "653bf0ee",
   "metadata": {},
   "source": [
    "## Persamaan\n",
    "Persamaan-persamaan yang akan digunakan adalah seperti dicantumkan pada bagian ini."
   ]
  },
  {
   "cell_type": "markdown",
   "id": "87051344",
   "metadata": {},
   "source": [
    "### Kinematika\n",
    "Hubungan antara antara kecepatan $v$, kecepatan awal $v_0$, percepatan $a$, dan waktu $t$ diberikan oleh\n",
    "\n",
    "\\begin{equation}\\label{eqn:kinematics-v-a-t}\\tag{1}\n",
    "v = v_0 + at.\n",
    "\\end{equation}"
   ]
  },
  {
   "cell_type": "markdown",
   "id": "2121abb9",
   "metadata": {},
   "source": [
    "Posisi benda $x$ bergantung pada posisi awal $x_0$, kecepatan awal $v_0$, percepatan $a$, dan waktu $t$ melalui hubungan\n",
    "\n",
    "\\begin{equation}\\label{eqn:kinematics-x-v-a-t}\\tag{2}\n",
    "x = x_0 + v_0 t + \\tfrac12 at^2.\n",
    "\\end{equation}\n"
   ]
  },
  {
   "cell_type": "markdown",
   "id": "b4b1030e",
   "metadata": {},
   "source": [
    "Selain kedua persamaan sebelumnya, terdapat pula persamaan berikut\n",
    "\n",
    "\\begin{equation}\\label{eqn:kinematics-v-x-a}\\tag{3}\n",
    "v^2 = v_0^2 + 2a(x - x_0),\n",
    "\\end{equation}\n",
    "\n",
    "yang menghubungkan kecepatan $v$ dengan kecepatan awal $v_0$, percepatan $a$, dan jarak yang ditempuh $x - x_0$."
   ]
  },
  {
   "cell_type": "code",
   "execution_count": null,
   "id": "1ee33cdb",
   "metadata": {},
   "outputs": [],
   "source": []
  }
 ],
 "metadata": {
  "kernelspec": {
   "display_name": "Python 3 (ipykernel)",
   "language": "python",
   "name": "python3"
  },
  "language_info": {
   "codemirror_mode": {
    "name": "ipython",
    "version": 3
   },
   "file_extension": ".py",
   "mimetype": "text/x-python",
   "name": "python",
   "nbconvert_exporter": "python",
   "pygments_lexer": "ipython3",
   "version": "3.10.4"
  }
 },
 "nbformat": 4,
 "nbformat_minor": 5
}
