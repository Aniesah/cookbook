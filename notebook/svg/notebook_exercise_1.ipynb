{
 "cells": [
  {
   "cell_type": "markdown",
   "id": "4a24a84c",
   "metadata": {},
   "source": [
    "# Pengenalan Notebook Jupyter\n",
    "Pada pertemuan ini diperkenalkan mengenai Notebook Jupyter yang dapat digunakan untuk mempelajari bahasa pemrograman Pyhthon dan membuat dokumentasinya."
   ]
  },
  {
   "cell_type": "markdown",
   "id": "648fafd3",
   "metadata": {},
   "source": [
    "Contoh perintah Python"
   ]
  },
  {
   "cell_type": "code",
   "execution_count": 7,
   "id": "7fcfca31",
   "metadata": {},
   "outputs": [
    {
     "name": "stdout",
     "output_type": "stream",
     "text": [
      "Hello, World!\n"
     ]
    }
   ],
   "source": [
    "print(\"Hello, World!\")"
   ]
  },
  {
   "cell_type": "markdown",
   "id": "c34e1830",
   "metadata": {},
   "source": [
    "## Iterasi for dalam Python\n",
    "Berikut ini adalah contoh sederhana iterasi dengan `for`."
   ]
  },
  {
   "cell_type": "code",
   "execution_count": 8,
   "id": "726c1ff2",
   "metadata": {},
   "outputs": [
    {
     "name": "stdout",
     "output_type": "stream",
     "text": [
      "0\n",
      "1\n",
      "2\n",
      "3\n",
      "4\n",
      "5\n",
      "6\n",
      "7\n",
      "8\n",
      "9\n",
      "10\n"
     ]
    }
   ],
   "source": [
    "for i in range(0, 11):\n",
    "    print(i)\n"
   ]
  },
  {
   "cell_type": "markdown",
   "id": "52b2ca76",
   "metadata": {},
   "source": [
    "Menyisipkan kode program tanpa mengeksekusi dan terdapat pewarnaanya.\n",
    "\n",
    "```python\n",
    "for i in range(0, 11):\n",
    "    print(i)\n",
    "```"
   ]
  },
  {
   "cell_type": "markdown",
   "id": "a9c0e35a",
   "metadata": {},
   "source": [
    "## Persamaan\n",
    "Terdapat dukungan untuk persamaan dalam Markdown pada Notebook Python menggunakan MathJax.\n",
    "\n",
    "Contoh untuk persamaan kuadrat secara inline $y = ax^2 + bx +c$."
   ]
  },
  {
   "cell_type": "markdown",
   "id": "401f40cc",
   "metadata": {},
   "source": [
    "Untuk satu blok persamaan\n",
    "\n",
    "\\begin{equation}\\label{eqn1}\\tag{1}\n",
    "y = ax^2 + bx + c\n",
    "\\end{equation}\n",
    "\n",
    "Merujuk Persamaan \\eqref{eqn1} adalah persamaan kuadrat.\n",
    "\n",
    "\\begin{equation}\\label{eqn2}\\tag{2}\n",
    "\\frac{1 + \\sin\\theta + \\sqrt{2x^ + 10}}{20 + y}\n",
    "\\end{equation}\n"
   ]
  },
  {
   "cell_type": "markdown",
   "id": "6a876084",
   "metadata": {},
   "source": [
    "### Matriks\n",
    "Terdapat matriks berikut\n",
    "\n",
    "\\begin{equation}\\label{eqn3}\\tag{3}\n",
    "M = \\left[\n",
    "\\begin{array}{cccc}\n",
    "1 & 2 & 3 & 4 \\newline\n",
    "x^2 & 2 & 3 & \\sin\\gamma \\newline\n",
    "1 & 2 & 3 & 4 \\newline\n",
    "1 & 2 & 3 & \\sqrt{20x - \\beta} \\newline\n",
    "\\end{array}\n",
    "\\right]\n",
    "\\end{equation}\n",
    "\n"
   ]
  },
  {
   "cell_type": "code",
   "execution_count": 17,
   "id": "258e64a2",
   "metadata": {},
   "outputs": [
    {
     "data": {
      "text/html": [
       "\n",
       "<div id='svgWrapper' style=\"border: 1px dashed #0f0; background: #88f; width: 400px; text-align: center;\">\n",
       "    <img src='collision-1d-type-0.svg'/>\n",
       "</div>\n"
      ],
      "text/plain": [
       "<IPython.core.display.HTML object>"
      ]
     },
     "metadata": {},
     "output_type": "display_data"
    }
   ],
   "source": [
    "%%html\n",
    "\n",
    "<div id='svgWrapper' style=\"border: 1px dashed #0f0; background: #88f; width: 400px;\">\n",
    "    <img src='collision-1d-type-0.svg'/>\n",
    "</div>"
   ]
  },
  {
   "cell_type": "code",
   "execution_count": null,
   "id": "b129509a",
   "metadata": {},
   "outputs": [],
   "source": []
  }
 ],
 "metadata": {
  "kernelspec": {
   "display_name": "Python 3 (ipykernel)",
   "language": "python",
   "name": "python3"
  },
  "language_info": {
   "codemirror_mode": {
    "name": "ipython",
    "version": 3
   },
   "file_extension": ".py",
   "mimetype": "text/x-python",
   "name": "python",
   "nbconvert_exporter": "python",
   "pygments_lexer": "ipython3",
   "version": "3.10.4"
  }
 },
 "nbformat": 4,
 "nbformat_minor": 5
}
